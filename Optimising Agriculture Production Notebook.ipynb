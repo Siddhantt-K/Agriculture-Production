{
 "cells": [
  {
   "cell_type": "markdown",
   "id": "b9958629",
   "metadata": {},
   "source": [
    "# Importing necessary libraries"
   ]
  },
  {
   "cell_type": "code",
   "execution_count": 1,
   "id": "aa52c22a",
   "metadata": {},
   "outputs": [],
   "source": [
    "import pandas as pd\n",
    "import numpy as np\n",
    "import seaborn as sns\n",
    "from ipywidgets import interact\n",
    "import matplotlib.pyplot as plt\n",
    "%matplotlib inline"
   ]
  },
  {
   "cell_type": "code",
   "execution_count": 2,
   "id": "2fde85da",
   "metadata": {},
   "outputs": [],
   "source": [
    "# To avoid the warnings so that our notebook looks clean\n",
    "import warnings\n",
    "warnings.filterwarnings('ignore')\n"
   ]
  },
  {
   "cell_type": "markdown",
   "id": "25ad672e",
   "metadata": {},
   "source": [
    "# Exploratory Data Analysis"
   ]
  },
  {
   "cell_type": "code",
   "execution_count": 3,
   "id": "8ca0fda6",
   "metadata": {},
   "outputs": [],
   "source": [
    "# loading data from a csv file to a pandas dataframe\n",
    "data = pd.read_csv(\"D:/Softwares/DS/Project/Optimising Agriculture/data.csv\")"
   ]
  },
  {
   "cell_type": "code",
   "execution_count": 4,
   "id": "d449ba43",
   "metadata": {},
   "outputs": [
    {
     "name": "stdout",
     "output_type": "stream",
     "text": [
      "Shape of the data: (2200, 8)\n"
     ]
    }
   ],
   "source": [
    "# checking the shape of the data\n",
    "print(\"Shape of the data:\", data.shape)"
   ]
  },
  {
   "cell_type": "code",
   "execution_count": 5,
   "id": "2e90ebb8",
   "metadata": {},
   "outputs": [
    {
     "data": {
      "text/html": [
       "<div>\n",
       "<style scoped>\n",
       "    .dataframe tbody tr th:only-of-type {\n",
       "        vertical-align: middle;\n",
       "    }\n",
       "\n",
       "    .dataframe tbody tr th {\n",
       "        vertical-align: top;\n",
       "    }\n",
       "\n",
       "    .dataframe thead th {\n",
       "        text-align: right;\n",
       "    }\n",
       "</style>\n",
       "<table border=\"1\" class=\"dataframe\">\n",
       "  <thead>\n",
       "    <tr style=\"text-align: right;\">\n",
       "      <th></th>\n",
       "      <th>N</th>\n",
       "      <th>P</th>\n",
       "      <th>K</th>\n",
       "      <th>temperature</th>\n",
       "      <th>humidity</th>\n",
       "      <th>ph</th>\n",
       "      <th>rainfall</th>\n",
       "      <th>label</th>\n",
       "    </tr>\n",
       "  </thead>\n",
       "  <tbody>\n",
       "    <tr>\n",
       "      <th>0</th>\n",
       "      <td>90</td>\n",
       "      <td>42</td>\n",
       "      <td>43</td>\n",
       "      <td>20.879744</td>\n",
       "      <td>82.002744</td>\n",
       "      <td>6.502985</td>\n",
       "      <td>202.935536</td>\n",
       "      <td>rice</td>\n",
       "    </tr>\n",
       "    <tr>\n",
       "      <th>1</th>\n",
       "      <td>85</td>\n",
       "      <td>58</td>\n",
       "      <td>41</td>\n",
       "      <td>21.770462</td>\n",
       "      <td>80.319644</td>\n",
       "      <td>7.038096</td>\n",
       "      <td>226.655537</td>\n",
       "      <td>rice</td>\n",
       "    </tr>\n",
       "    <tr>\n",
       "      <th>2</th>\n",
       "      <td>60</td>\n",
       "      <td>55</td>\n",
       "      <td>44</td>\n",
       "      <td>23.004459</td>\n",
       "      <td>82.320763</td>\n",
       "      <td>7.840207</td>\n",
       "      <td>263.964248</td>\n",
       "      <td>rice</td>\n",
       "    </tr>\n",
       "    <tr>\n",
       "      <th>3</th>\n",
       "      <td>74</td>\n",
       "      <td>35</td>\n",
       "      <td>40</td>\n",
       "      <td>26.491096</td>\n",
       "      <td>80.158363</td>\n",
       "      <td>6.980401</td>\n",
       "      <td>242.864034</td>\n",
       "      <td>rice</td>\n",
       "    </tr>\n",
       "    <tr>\n",
       "      <th>4</th>\n",
       "      <td>78</td>\n",
       "      <td>42</td>\n",
       "      <td>42</td>\n",
       "      <td>20.130175</td>\n",
       "      <td>81.604873</td>\n",
       "      <td>7.628473</td>\n",
       "      <td>262.717340</td>\n",
       "      <td>rice</td>\n",
       "    </tr>\n",
       "  </tbody>\n",
       "</table>\n",
       "</div>"
      ],
      "text/plain": [
       "    N   P   K  temperature   humidity        ph    rainfall label\n",
       "0  90  42  43    20.879744  82.002744  6.502985  202.935536  rice\n",
       "1  85  58  41    21.770462  80.319644  7.038096  226.655537  rice\n",
       "2  60  55  44    23.004459  82.320763  7.840207  263.964248  rice\n",
       "3  74  35  40    26.491096  80.158363  6.980401  242.864034  rice\n",
       "4  78  42  42    20.130175  81.604873  7.628473  262.717340  rice"
      ]
     },
     "execution_count": 5,
     "metadata": {},
     "output_type": "execute_result"
    }
   ],
   "source": [
    "# getting top 5 records of our data\n",
    "data.head()"
   ]
  },
  {
   "cell_type": "code",
   "execution_count": 6,
   "id": "5d476014",
   "metadata": {},
   "outputs": [
    {
     "data": {
      "text/plain": [
       "N              0\n",
       "P              0\n",
       "K              0\n",
       "temperature    0\n",
       "humidity       0\n",
       "ph             0\n",
       "rainfall       0\n",
       "label          0\n",
       "dtype: int64"
      ]
     },
     "execution_count": 6,
     "metadata": {},
     "output_type": "execute_result"
    }
   ],
   "source": [
    "# cheking if there is any missing value in our data\n",
    "data.isnull().sum()"
   ]
  },
  {
   "cell_type": "code",
   "execution_count": 7,
   "id": "d81ed258",
   "metadata": {},
   "outputs": [
    {
     "data": {
      "text/plain": [
       "blackgram      100\n",
       "banana         100\n",
       "chickpea       100\n",
       "pomegranate    100\n",
       "mango          100\n",
       "maize          100\n",
       "lentil         100\n",
       "apple          100\n",
       "mothbeans      100\n",
       "coconut        100\n",
       "coffee         100\n",
       "pigeonpeas     100\n",
       "rice           100\n",
       "jute           100\n",
       "cotton         100\n",
       "papaya         100\n",
       "kidneybeans    100\n",
       "grapes         100\n",
       "muskmelon      100\n",
       "watermelon     100\n",
       "mungbean       100\n",
       "orange         100\n",
       "Name: label, dtype: int64"
      ]
     },
     "execution_count": 7,
     "metadata": {},
     "output_type": "execute_result"
    }
   ],
   "source": [
    "# checking the labels/target variable (crops) present in our data\n",
    "data['label'].value_counts()"
   ]
  },
  {
   "cell_type": "code",
   "execution_count": 8,
   "id": "8947a466",
   "metadata": {},
   "outputs": [
    {
     "name": "stdout",
     "output_type": "stream",
     "text": [
      "Average ratio of Nitrogen(N) in the Soil : 50.55\n",
      "Average ratio of Phosphorous(P) in the Soil : 53.36\n",
      "Average ratio of Potassium(K) in the Soil : 48.15\n",
      "Average Temperature in Celsius : 25.62\n",
      "Average Humidity in % : 71.48\n",
      "Average ph in % : 6.47\n",
      "Average Rainfall in mm : 103.46\n"
     ]
    }
   ],
   "source": [
    "# Checking average climatic and soil requirement.\n",
    "# Means we are going to get what is the average requirement for Nitrogen, Phosphorous, Potassium, Temperature, Humidity,\n",
    "# ph, Rainfall.\n",
    "\n",
    "print('Average ratio of Nitrogen(N) in the Soil : {0:.2f}'.format(data['N'].mean()))\n",
    "print('Average ratio of Phosphorous(P) in the Soil : {0:.2f}'.format(data['P'].mean()))\n",
    "print('Average ratio of Potassium(K) in the Soil : {0:.2f}'.format(data['K'].mean()))\n",
    "print('Average Temperature in Celsius : {0:.2f}'.format(data['temperature'].mean()))\n",
    "print('Average Humidity in % : {0:.2f}'.format(data['humidity'].mean()))\n",
    "print('Average ph in % : {0:.2f}'.format(data['ph'].mean()))\n",
    "print('Average Rainfall in mm : {0:.2f}'.format(data['rainfall'].mean()))\n",
    "\n",
    "# above findings can also be seen in the mean value by data.describe() function "
   ]
  },
  {
   "cell_type": "code",
   "execution_count": 9,
   "id": "7ea199f8",
   "metadata": {},
   "outputs": [],
   "source": [
    "# data.describe()"
   ]
  },
  {
   "cell_type": "code",
   "execution_count": 10,
   "id": "e56610ca",
   "metadata": {},
   "outputs": [
    {
     "data": {
      "application/vnd.jupyter.widget-view+json": {
       "model_id": "a7a001474b254c7c82ff3099c5cc057c",
       "version_major": 2,
       "version_minor": 0
      },
      "text/plain": [
       "interactive(children=(Dropdown(description='Crops', options=('blackgram', 'banana', 'chickpea', 'pomegranate',…"
      ]
     },
     "metadata": {},
     "output_type": "display_data"
    }
   ],
   "source": [
    "# checking summary statistics for each of the crops\n",
    "# here we are going to check the minimum, average and maximum value of N, P, K, Temperature, Humidity, ph, Rainfall for each\n",
    "# crop using interact keyword. Due to this keyword our function has become intuitive. \n",
    "# This can be only done using ipywidgets library.\n",
    "# Using this functionality we can find soil requirement and climatic condition of any crop given in the data.  \n",
    " \n",
    "@interact\n",
    "def summary(Crops = list(data['label'].value_counts().index)):\n",
    "    x = data[data['label'] == Crops]\n",
    "    print('-------------------------------------------------')\n",
    "    print('Statistics for Nitrogen :-')\n",
    "    print('Minimum Nitrogen Required :', x['N'].min())\n",
    "    print('Average Nitrogen Required :', x['N'].mean())\n",
    "    print('Maximum Nitrogen Required :', x['N'].max())\n",
    "    \n",
    "    print('-------------------------------------------------')\n",
    "    print('Statistics for Phosphorous :-')\n",
    "    print('Minimum Phosphorous Required :', x['P'].min())\n",
    "    print('Average Phosphorous Required :', x['P'].mean())\n",
    "    print('Maximum Phosphorous Required :', x['P'].max())\n",
    "    \n",
    "    print('-------------------------------------------------')\n",
    "    print('Statistics for Potassium :-')\n",
    "    print('Minimum Potassium Required :', x['K'].min())\n",
    "    print('Average Potassium Required :', x['K'].mean())\n",
    "    print('Maximum Potassium Required :', x['K'].max())\n",
    "    \n",
    "    print('-------------------------------------------------')\n",
    "    print('Statistics for Temperature  :-')\n",
    "    print('Minimum Temperature Required :', x['temperature'].min())\n",
    "    print('Average Temperature Required :', x['temperature'].mean())\n",
    "    print('Maximum Temperature Required :', x['temperature'].max())\n",
    "    \n",
    "    print('-------------------------------------------------')\n",
    "    print('Statistics for Humidity  :-')\n",
    "    print('Minimum Humidity Required :', x['humidity'].min())\n",
    "    print('Average Humidity Required :', x['humidity'].mean())\n",
    "    print('Maximum Humidity Required :', x['humidity'].max())\n",
    "    \n",
    "    print('-------------------------------------------------')\n",
    "    print('Statistics for ph :-')\n",
    "    print('Minimum ph Required :', x['ph'].min())\n",
    "    print('Average ph Required :', x['ph'].mean())\n",
    "    print('Maximum ph Required :', x['ph'].max())\n",
    "    \n",
    "    print('-------------------------------------------------')\n",
    "    print('Statistics for Rainfall :-')\n",
    "    print('Minimum Rainfall Required :', x['rainfall'].min())\n",
    "    print('Average Rainfall Required :', x['rainfall'].mean())\n",
    "    print('Maximum Rainfall Required :', x['rainfall'].max())\n",
    "    \n",
    "# (If we select mango crop from the dropdown we can see how our values got updated and also we can see that the temperature\n",
    "# requirement for mango is very high which suggests that its a summer crop.)"
   ]
  },
  {
   "cell_type": "code",
   "execution_count": 13,
   "id": "6778ccbb",
   "metadata": {},
   "outputs": [
    {
     "data": {
      "application/vnd.jupyter.widget-view+json": {
       "model_id": "c2e011258cfd4bddb36353d9f2be6956",
       "version_major": 2,
       "version_minor": 0
      },
      "text/plain": [
       "interactive(children=(Dropdown(description='Conditions', options=('N', 'P', 'K', 'temperature', 'humidity', 'p…"
      ]
     },
     "metadata": {},
     "output_type": "display_data"
    }
   ],
   "source": [
    "# function to compare all the crop at once\n",
    "# comparing the average soil requirement and climatic condition of each crop \n",
    "\n",
    "@interact\n",
    "def compare(Conditions = ['N','P','K','temperature','humidity','ph','rainfall']):\n",
    "    print('Average value for' ,Conditions, 'is {0:.2f}'.format(data[Conditions].mean()))\n",
    "    print('--------------------------------------------------------\\n')\n",
    "    print(' * ', Conditions, 'for all the crops * ')\n",
    "    print('Rice : {0:.2f}'.format(data[(data['label'] == 'rice')][Conditions].mean()))\n",
    "    print('Coconut : {0:.2f}'.format(data[(data['label'] == 'coconut')][Conditions].mean()))\n",
    "    print('Apple : {0:.2f}'.format(data[(data['label'] == 'apple')][Conditions].mean()))\n",
    "    print('Mango : {0:.2f}'.format(data[(data['label'] == 'mango')][Conditions].mean()))\n",
    "    print('Mungbean : {0:.2f}'.format(data[(data['label'] == 'mungbean')][Conditions].mean()))\n",
    "    print('Cotton : {0:.2f}'.format(data[(data['label'] == 'cotton')][Conditions].mean()))\n",
    "    print('Watermelon : {0:.2f}'.format(data[(data['label'] == 'watermelon')][Conditions].mean()))\n",
    "    print('Blackgram : {0:.2f}'.format(data[(data['label'] == 'blackgram')][Conditions].mean()))\n",
    "    print('Grapes : {0:.2f}'.format(data[(data['label'] == 'grapes')][Conditions].mean()))\n",
    "    print('Maize : {0:.2f}'.format(data[(data['label'] == 'maize')][Conditions].mean()))\n",
    "    print('Muskmelon : {0:.2f}'.format(data[(data['label'] == 'muskmelon')][Conditions].mean()))\n",
    "    print('Papaya : {0:.2f}'.format(data[(data['label'] == 'papaya')][Conditions].mean()))\n",
    "    print('Pomegranate : {0:.2f}'.format(data[(data['label'] == 'pomegranate')][Conditions].mean()))\n",
    "    print('Mothbeans : {0:.2f}'.format(data[(data['label'] == 'mothbeans')][Conditions].mean()))\n",
    "    print('Orange : {0:.2f}'.format(data[(data['label'] == 'orange')][Conditions].mean()))\n",
    "    print('Banana : {0:.2f}'.format(data[(data['label'] == 'banana')][Conditions].mean()))\n",
    "    print('Pigeonpeas : {0:.2f}'.format(data[(data['label'] == 'pigeonpeas')][Conditions].mean()))\n",
    "    print('Chickpea : {0:.2f}'.format(data[(data['label'] == 'chickpea')][Conditions].mean()))\n",
    "    print('Lentil : {0:.2f}'.format(data[(data['label'] == 'lentil')][Conditions].mean()))\n",
    "    print('Kidneybeans : {0:.2f}'.format(data[(data['label'] == 'kidneybeans')][Conditions].mean()))\n",
    "    print('Coffee : {0:.2f}'.format(data[(data['label'] == 'coffee')][Conditions].mean()))\n",
    "    print('Jute : {0:.2f}'.format(data[(data['label'] == 'jute')][Conditions].mean()))\n",
    "\n",
    "# (In the below dropdown we can see the soil requirement and climatic conditions. \n",
    "# If we select rainfall from dropdown it will show us average rainfall for all the crops.\n",
    "# Also their we can see that some crops require more rainfall whereas some require less.)\n",
    "# So for this we will again create a function which will tell us that which crop has more & less average than the requirement. \n",
    "# This will open up many pattern for us and will let us know that which crop requires unusual soil and climatic condition."
   ]
  },
  {
   "cell_type": "code",
   "execution_count": 12,
   "id": "4eb19fc8",
   "metadata": {},
   "outputs": [
    {
     "data": {
      "application/vnd.jupyter.widget-view+json": {
       "model_id": "77cf0214e3f9461f9f7cf0cf770c408d",
       "version_major": 2,
       "version_minor": 0
      },
      "text/plain": [
       "interactive(children=(Dropdown(description='Conditions', options=('N', 'P', 'K', 'temperature', 'humidity', 'p…"
      ]
     },
     "metadata": {},
     "output_type": "display_data"
    }
   ],
   "source": [
    "# creating a function to check which crop requires more or less average than the requirement\n",
    "\n",
    "@interact\n",
    "def compare(Conditions = ['N','P','K','temperature','humidity','ph','rainfall']):\n",
    "    print('Crops which require more',Conditions, 'than the average',Conditions,'\\n')\n",
    "    print(data[data[Conditions] > data[Conditions].mean()]['label'].unique())\n",
    "    print('\\n-------------------------------------------------------------------------\\n')\n",
    "    print('Crops which require less',Conditions, 'than the average' ,Conditions,'\\n')\n",
    "    print(data[data[Conditions] <= data[Conditions].mean()]['label'].unique())"
   ]
  },
  {
   "cell_type": "code",
   "execution_count": 13,
   "id": "b0fb06e9",
   "metadata": {},
   "outputs": [
    {
     "data": {
      "text/plain": [
       "Text(0.5, 0.98, 'Distribution for Agricultural Condition')"
      ]
     },
     "execution_count": 13,
     "metadata": {},
     "output_type": "execute_result"
    },
    {
     "data": {
      "image/png": "[encoded data removed]",
      "text/plain": [
       "<Figure size 720x288 with 7 Axes>"
      ]
     },
     "metadata": {
      "needs_background": "light"
     },
     "output_type": "display_data"
    }
   ],
   "source": [
    "# Lets check the distribution of the soil and climatic conditions for all the different crops present in the data\n",
    "\n",
    "plt.rcParams['figure.figsize'] = (10,4)\n",
    "\n",
    "plt.subplot(2,4,1)\n",
    "#plt.figure(figsize=(3,3))\n",
    "sns.distplot(data['N'], color = 'blue')\n",
    "plt.xlabel('Ratio of Nitrogen', fontsize = 12)\n",
    "plt.grid()\n",
    "\n",
    "plt.subplot(2,4,2)\n",
    "sns.distplot(data['P'], color = 'brown')\n",
    "plt.xlabel('Ratio of Phosphorous', fontsize = 12)\n",
    "plt.grid()\n",
    "\n",
    "plt.subplot(2,4,3)\n",
    "sns.distplot(data['K'], color = 'purple')\n",
    "plt.xlabel('Ratio of Potassium', fontsize = 12)\n",
    "plt.grid()\n",
    "\n",
    "plt.subplot(2,4,4)\n",
    "sns.distplot(data['temperature'], color = 'black')\n",
    "plt.xlabel('Temperature', fontsize = 12)\n",
    "plt.grid()\n",
    "\n",
    "plt.subplot(2,4,5)\n",
    "sns.distplot(data['humidity'], color = 'green')\n",
    "plt.xlabel('Humidity', fontsize = 12)\n",
    "plt.grid()\n",
    "\n",
    "plt.subplot(2,4,6)\n",
    "sns.distplot(data['ph'], color = 'violet')\n",
    "plt.xlabel('ph', fontsize = 12)\n",
    "plt.grid()\n",
    "\n",
    "plt.subplot(2,4,7)\n",
    "sns.distplot(data['rainfall'], color = 'red')\n",
    "plt.xlabel('Rainfall', fontsize = 12)\n",
    "plt.grid()\n",
    "\n",
    "plt.suptitle('Distribution for Agricultural Condition', fontsize = 20)\n",
    "# plt.show()"
   ]
  },
  {
   "cell_type": "code",
   "execution_count": 14,
   "id": "3a125e99",
   "metadata": {},
   "outputs": [
    {
     "name": "stdout",
     "output_type": "stream",
     "text": [
      "Some interesting patterns :-\n",
      "--------------------------------\n",
      "Crops which require High Ratio of Nitrogen content in Soil :  ['cotton']\n",
      "Crops which require High Ratio of Phosphorous content in Soil :  ['grapes' 'apple']\n",
      "Crops which require High Ratio of Potassium content in Soil :  ['grapes' 'apple']\n",
      "Crops which require High Ratio of Rainfall :  ['rice' 'papaya' 'coconut']\n",
      "Crops which require Low Ratio of Temperature :  ['grapes']\n",
      "Crops which require High Ratio of Temperature :  ['grapes' 'papaya']\n",
      "Crops which require Low Ratio of Humidity :  ['chickpea' 'kidneybeans']\n",
      "Crops which require Low Ratio of ph :  ['mothbeans']\n",
      "Crops which require High Ratio of ph :  ['mothbeans']\n"
     ]
    }
   ],
   "source": [
    "# using python filtering method to gain some more insights\n",
    "# So here with the help of distribution plot we have found out min and max threshold and with its help we will filter out data\n",
    "# So that we will get to know those crops which have unusual requirement\n",
    "\n",
    "print('Some interesting patterns :-')\n",
    "print('--------------------------------')\n",
    "print('Crops which require High Ratio of Nitrogen content in Soil : ', data[data['N'] > 120]['label'].unique())\n",
    "print('Crops which require High Ratio of Phosphorous content in Soil : ', data[data['P'] > 100]['label'].unique())\n",
    "print('Crops which require High Ratio of Potassium content in Soil : ', data[data['K'] > 200]['label'].unique())\n",
    "print('Crops which require High Ratio of Rainfall : ', data[data['rainfall'] > 200]['label'].unique())\n",
    "print('Crops which require Low Ratio of Temperature : ', data[data['temperature'] < 10]['label'].unique())\n",
    "print('Crops which require High Ratio of Temperature : ', data[data['temperature'] > 40]['label'].unique())\n",
    "print('Crops which require Low Ratio of Humidity : ', data[data['humidity'] < 20]['label'].unique())\n",
    "print('Crops which require Low Ratio of ph : ', data[data['ph'] < 4]['label'].unique())\n",
    "print('Crops which require High Ratio of ph : ', data[data['ph'] > 9]['label'].unique())\n",
    "\n",
    "# (As we can see all the intersting patterns below but one is that Mothbeans can be grown in both high and low ph)"
   ]
  },
  {
   "cell_type": "code",
   "execution_count": 20,
   "id": "2b079a6e",
   "metadata": {},
   "outputs": [
    {
     "name": "stdout",
     "output_type": "stream",
     "text": [
      "Summer Crops\n",
      "['pigeonpeas' 'mothbeans' 'blackgram' 'mango' 'grapes' 'orange' 'papaya']\n",
      "-------------------------------------------------------------------------\n",
      "Winter Crops\n",
      "['maize' 'pigeonpeas' 'lentil' 'pomegranate' 'grapes' 'orange']\n",
      "-------------------------------------------------------------------------\n",
      "Rainy Crops\n",
      "['rice' 'papaya' 'coconut']\n"
     ]
    }
   ],
   "source": [
    "# On the basis of temperature,humidity and rainfall we can also find which crops are suitable for the particular season\n",
    "# This will let us know which crops sould be grown in summer, winter and rainy season\n",
    "\n",
    "print('Summer Crops')\n",
    "print(data[(data['temperature'] > 30) & (data['humidity'] > 50)]['label'].unique())\n",
    "print('-------------------------------------------------------------------------')\n",
    "\n",
    "print('Winter Crops')\n",
    "print(data[(data['temperature'] < 20) & (data['humidity'] > 30)]['label'].unique())\n",
    "print('-------------------------------------------------------------------------')\n",
    "print('Rainy Crops')\n",
    "print(data[(data['rainfall'] > 200) & (data['humidity'] > 30)]['label'].unique())\n",
    "# print('-------------------------------------------------------------------------')"
   ]
  },
  {
   "cell_type": "code",
   "execution_count": 16,
   "id": "97576e98",
   "metadata": {},
   "outputs": [],
   "source": [
    "# Now by using this data we need to find those crops which can be grown in the same soil and climatic condition\n",
    "# So for this we will use Clustering Analysis\n",
    "# Clustering Analysis : Its used to classify the data into relative groups that are called clusters, means by doing this we can \n",
    "#                       assign similar data points in a single group and in the way we can make different groups.\n",
    "#                       where the data points of particular group will be very similar to each other.\n",
    "# Like data points of group 'A' will be very similar to each other and same goes with group 'B' but the data points of group 'A'\n",
    "# and group 'B' will be very different from each other"
   ]
  },
  {
   "cell_type": "code",
   "execution_count": 17,
   "id": "56ad75f4",
   "metadata": {},
   "outputs": [],
   "source": [
    "# For this we will be using K Means clustering algorithm\n",
    "from sklearn.cluster import KMeans\n",
    "\n",
    "# since it is unsupervised learning, the data will only have features\n",
    "X = data.iloc[:,0:7].values"
   ]
  },
  {
   "cell_type": "code",
   "execution_count": 18,
   "id": "8691ccef",
   "metadata": {},
   "outputs": [
    {
     "data": {
      "image/png": "[encoded data removed]",
      "text/plain": [
       "<Figure size 720x288 with 1 Axes>"
      ]
     },
     "metadata": {
      "needs_background": "light"
     },
     "output_type": "display_data"
    }
   ],
   "source": [
    "# Now calculating the optimum number of clusters\n",
    "\n",
    "wcss = []\n",
    "for i in range(1,11):\n",
    "    km = KMeans(n_clusters = i, init = 'k-means++', random_state = 0)\n",
    "    km.fit(X)\n",
    "    wcss.append(km.inertia_) #calculating wcss for a cluster\n",
    "\n",
    "#now plotting it to check the k value\n",
    "plt.plot(range(1,11), wcss)\n",
    "plt.xlabel('No. of clusters')\n",
    "plt.ylabel('WCSS')\n",
    "plt.title('Elbow Method')\n",
    "plt.show() \n",
    "\n",
    "# here as we can see that the elbow is formed at 4 and then the value is stagnant so therefore the value of k(cluters) is 4"
   ]
  },
  {
   "cell_type": "code",
   "execution_count": 19,
   "id": "cf3f8672",
   "metadata": {},
   "outputs": [
    {
     "name": "stdout",
     "output_type": "stream",
     "text": [
      "Cluster  label      \n",
      "0        blackgram      100\n",
      "         chickpea       100\n",
      "         coconut          9\n",
      "         kidneybeans    100\n",
      "         lentil         100\n",
      "         maize           24\n",
      "         mango          100\n",
      "         mothbeans      100\n",
      "         mungbean       100\n",
      "         orange         100\n",
      "         papaya          29\n",
      "         pigeonpeas      47\n",
      "         pomegranate    100\n",
      "1        banana         100\n",
      "         coffee          22\n",
      "         cotton         100\n",
      "         maize           76\n",
      "         muskmelon      100\n",
      "         papaya          19\n",
      "         watermelon     100\n",
      "2        apple          100\n",
      "         grapes         100\n",
      "3        coconut         91\n",
      "         coffee          78\n",
      "         jute           100\n",
      "         papaya          52\n",
      "         pigeonpeas      53\n",
      "         rice           100\n",
      "dtype: int64\n"
     ]
    }
   ],
   "source": [
    "# Now lets implement the KMeans algorithm to perform clustering analysis\n",
    "\n",
    "km = KMeans(n_clusters = 4, init = 'k-means++', random_state = 0) #some parameters used by KMeans\n",
    "pred_cluster = km.fit_predict(X) #we have passed fit and predict all at once to features as we dont have label\n",
    "#print(pred_cluster) #it gives the cluster id : 0,1,2,3\n",
    "\n",
    "# lets find out the results\n",
    "a = data['label']\n",
    "pred_cluster = pd.DataFrame(pred_cluster)\n",
    "z = pd.concat([pred_cluster, a], axis = 1)\n",
    "z = z.rename(columns = {0:'Cluster'})\n",
    "print(z[['Cluster','label']].groupby(['Cluster','label']).size()) # This gives us cluster id along with the respective crops\n",
    "\n",
    "# print(z[['Cluster','label']].groupby(['Cluster','label']).size().reset_index())\n"
   ]
  },
  {
   "cell_type": "code",
   "execution_count": 20,
   "id": "ace1e24c",
   "metadata": {},
   "outputs": [
    {
     "name": "stdout",
     "output_type": "stream",
     "text": [
      "* Lets check the results after applying the K Means Clustering Algorithm * \n",
      "\n",
      "Crop in the first cluster: ['maize' 'chickpea' 'kidneybeans' 'pigeonpeas' 'mothbeans' 'mungbean'\n",
      " 'blackgram' 'lentil' 'pomegranate' 'mango' 'orange' 'papaya' 'coconut']\n",
      "--------------------------------------------------------------------------------------\n",
      "Crop in the second cluster: ['maize' 'banana' 'watermelon' 'muskmelon' 'papaya' 'cotton' 'coffee']\n",
      "--------------------------------------------------------------------------------------\n",
      "Crop in the third cluster: ['grapes' 'apple']\n",
      "--------------------------------------------------------------------------------------\n",
      "Crop in the fourth cluster: ['rice' 'pigeonpeas' 'papaya' 'coconut' 'jute' 'coffee']\n"
     ]
    }
   ],
   "source": [
    "# Checking the cluster for each crop\n",
    "print('* Lets check the results after applying the K Means Clustering Algorithm * \\n')\n",
    "print('Crop in the first cluster:', z[z['Cluster'] == 0]['label'].unique())\n",
    "print('--------------------------------------------------------------------------------------')\n",
    "print('Crop in the second cluster:', z[z['Cluster'] == 1]['label'].unique())\n",
    "print('--------------------------------------------------------------------------------------')\n",
    "print('Crop in the third cluster:', z[z['Cluster'] == 2]['label'].unique())\n",
    "print('--------------------------------------------------------------------------------------')\n",
    "print('Crop in the fourth cluster:', z[z['Cluster'] == 3]['label'].unique())\n",
    "\n",
    "# (As here we can see grapes, apple are in same cluster beacuse they exhibit similar properties and so on..)\n",
    "# (This will help farmers to adopt modern farming also due to this their productivity and profit will increase more.)"
   ]
  },
  {
   "cell_type": "code",
   "execution_count": 21,
   "id": "04a87afd",
   "metadata": {},
   "outputs": [],
   "source": [
    "# Plotting all the clusters\n",
    "\n",
    "# plt.scatter(X[pred_cluster == 0,0], X[pred_cluster == 0,1], c='red', label='cluster 1')\n",
    "# plt.scatter(X[pred_cluster == 1,0], X[pred_cluster == 1,1], c='blue', label='cluster2')\n",
    "# plt.scatter(X[pred_cluster == 2,0], X[pred_cluster == 2,1], c='green', label='cluster3')\n",
    "# plt.scatter(X[pred_cluster == 3,0], X[pred_cluster == 3,1], c='orange', label='cluster4')\n",
    "\n",
    "# plt.scatter(km.cluster_centers_[:,0], km.cluster_centers_[:,1], c='yellow', label='Centroid')\n",
    "\n",
    "# plt.xlabel('Climatic Condition, Soil Requirement')\n",
    "# plt.ylabel('Crops')\n",
    "# plt.title('Cluster of Data Points')\n",
    "# plt.legend()\n",
    "# plt.show()\n"
   ]
  },
  {
   "cell_type": "markdown",
   "id": "df8c03aa",
   "metadata": {},
   "source": [
    "# Predictive Modelling "
   ]
  },
  {
   "cell_type": "code",
   "execution_count": 23,
   "id": "1e8f3e25",
   "metadata": {},
   "outputs": [
    {
     "name": "stdout",
     "output_type": "stream",
     "text": [
      "Shape of features (2200, 7)\n",
      "Shape of labels (2200,)\n"
     ]
    }
   ],
   "source": [
    "# Predicitve Modelling : Here we use our data to create a model, once model is trained we make predictions for the unseen data.\n",
    "#                        So throughout this process ML model finds all trends and patterns and with the help of them it makes\n",
    "#                        some decision rule which plays a major role in the final prediction.\n",
    "# We will check Logistic Regression and XGBoost Classifier for predicive modelling as this both performs well with multiple classes.\n",
    "\n",
    "# this will let us know the most suitable crop for each specific condition\n",
    "\n",
    "# Splitting data for predictive modelling\n",
    "\n",
    "features = data.drop(['label'], axis=1)\n",
    "labels = data['label']\n",
    "print('Shape of features', features.shape)\n",
    "print('Shape of labels', labels.shape)\n"
   ]
  },
  {
   "cell_type": "code",
   "execution_count": 24,
   "id": "3d2f53c5",
   "metadata": {},
   "outputs": [
    {
     "name": "stdout",
     "output_type": "stream",
     "text": [
      "Shape of features_train (1760, 7)\n",
      "Shape of features_test (440, 7)\n",
      "Shape of labels_train (1760,)\n",
      "Shape of labels_test (440,)\n"
     ]
    }
   ],
   "source": [
    "# Creating traing and testing set for the validation results\n",
    "\n",
    "from sklearn.model_selection import train_test_split\n",
    "features_train, features_test, labels_train, labels_test = train_test_split(features, labels, test_size=0.2)\n",
    "\n",
    "print('Shape of features_train', features_train.shape)\n",
    "print('Shape of features_test', features_test.shape)\n",
    "print('Shape of labels_train', labels_train.shape)\n",
    "print('Shape of labels_test', labels_test.shape)\n"
   ]
  },
  {
   "cell_type": "code",
   "execution_count": 24,
   "id": "57b13972",
   "metadata": {},
   "outputs": [],
   "source": [
    "# Lets create predictive model\n",
    "\n",
    "from sklearn.linear_model import LogisticRegression\n",
    "model = LogisticRegression()\n",
    "model.fit(features_train, labels_train)\n",
    "y_pred = model.predict(features_test)"
   ]
  },
  {
   "cell_type": "code",
   "execution_count": 25,
   "id": "2ddb8168",
   "metadata": {},
   "outputs": [
    {
     "name": "stdout",
     "output_type": "stream",
     "text": [
      "Training Score: 0.9664772727272727\n",
      "Testing Score: 0.9590909090909091\n"
     ]
    }
   ],
   "source": [
    "# Training and Testing Score for the model\n",
    "\n",
    "print(\"Training Score:\", model.score(features_train, labels_train))\n",
    "print(\"Testing Score:\", model.score(features_test, labels_test))"
   ]
  },
  {
   "cell_type": "code",
   "execution_count": 26,
   "id": "72dbbb89",
   "metadata": {},
   "outputs": [
    {
     "data": {
      "image/png": "[encoded data removed]",
      "text/plain": [
       "<Figure size 720x720 with 2 Axes>"
      ]
     },
     "metadata": {
      "needs_background": "light"
     },
     "output_type": "display_data"
    }
   ],
   "source": [
    "# Lets evaluate model performance\n",
    "\n",
    "from sklearn.metrics import confusion_matrix\n",
    "\n",
    "plt.rcParams['figure.figsize'] = (10,10)\n",
    "cm = confusion_matrix(labels_test, y_pred)\n",
    "sns.heatmap(cm, annot = True, cmap = 'Wistia')\n",
    "plt.title('Confusion Matrix for Logistic Regression', fontsize = 15)\n",
    "plt.show()"
   ]
  },
  {
   "cell_type": "code",
   "execution_count": 27,
   "id": "cd4853f1",
   "metadata": {},
   "outputs": [
    {
     "name": "stdout",
     "output_type": "stream",
     "text": [
      "              precision    recall  f1-score   support\n",
      "\n",
      "       apple       1.00      1.00      1.00        19\n",
      "      banana       1.00      1.00      1.00        26\n",
      "   blackgram       1.00      0.86      0.93        29\n",
      "    chickpea       1.00      1.00      1.00        16\n",
      "     coconut       1.00      0.95      0.97        19\n",
      "      coffee       1.00      1.00      1.00        20\n",
      "      cotton       0.75      1.00      0.86        15\n",
      "      grapes       1.00      1.00      1.00        25\n",
      "        jute       0.90      0.75      0.82        12\n",
      " kidneybeans       1.00      1.00      1.00        22\n",
      "      lentil       1.00      0.96      0.98        26\n",
      "       maize       0.91      0.77      0.83        26\n",
      "       mango       1.00      1.00      1.00        13\n",
      "   mothbeans       0.83      1.00      0.91        15\n",
      "    mungbean       1.00      1.00      1.00        22\n",
      "   muskmelon       1.00      1.00      1.00        18\n",
      "      orange       1.00      1.00      1.00        22\n",
      "      papaya       1.00      0.92      0.96        24\n",
      "  pigeonpeas       0.90      1.00      0.95        19\n",
      " pomegranate       0.95      1.00      0.98        21\n",
      "        rice       0.73      0.92      0.81        12\n",
      "  watermelon       1.00      1.00      1.00        19\n",
      "\n",
      "    accuracy                           0.96       440\n",
      "   macro avg       0.95      0.96      0.95       440\n",
      "weighted avg       0.96      0.96      0.96       440\n",
      "\n"
     ]
    }
   ],
   "source": [
    "# Lets print the classification report\n",
    "# (This will give us the value for recall and precision. If the value for both is good then our model is also good.)\n",
    "\n",
    "from sklearn.metrics import classification_report\n",
    "cr = classification_report(labels_test, y_pred)\n",
    "print(cr)\n",
    "\n",
    "# (As we can see for all our crops precision and recall is very high hence we can conclude that our model is so accurate)"
   ]
  },
  {
   "cell_type": "code",
   "execution_count": null,
   "id": "bda5157c",
   "metadata": {},
   "outputs": [],
   "source": []
  },
  {
   "cell_type": "code",
   "execution_count": 21,
   "id": "e7b73221",
   "metadata": {},
   "outputs": [],
   "source": [
    "# Using XGBoost\n",
    "\n",
    "from xgboost import XGBClassifier\n",
    "xgb = XGBClassifier()"
   ]
  },
  {
   "cell_type": "code",
   "execution_count": 25,
   "id": "a9083d82",
   "metadata": {},
   "outputs": [
    {
     "name": "stdout",
     "output_type": "stream",
     "text": [
      "[14:18:48] WARNING: C:/Users/Administrator/workspace/xgboost-win64_release_1.5.1/src/learner.cc:1115: Starting in XGBoost 1.3.0, the default evaluation metric used with the objective 'multi:softprob' was changed from 'merror' to 'mlogloss'. Explicitly set eval_metric if you'd like to restore the old behavior.\n"
     ]
    },
    {
     "data": {
      "text/plain": [
       "XGBClassifier(base_score=0.5, booster='gbtree', colsample_bylevel=1,\n",
       "              colsample_bynode=1, colsample_bytree=1, enable_categorical=False,\n",
       "              gamma=0, gpu_id=-1, importance_type=None,\n",
       "              interaction_constraints='', learning_rate=0.300000012,\n",
       "              max_delta_step=0, max_depth=6, min_child_weight=1, missing=nan,\n",
       "              monotone_constraints='()', n_estimators=100, n_jobs=4,\n",
       "              num_parallel_tree=1, objective='multi:softprob', predictor='auto',\n",
       "              random_state=0, reg_alpha=0, reg_lambda=1, scale_pos_weight=None,\n",
       "              subsample=1, tree_method='exact', validate_parameters=1,\n",
       "              verbosity=None)"
      ]
     },
     "execution_count": 25,
     "metadata": {},
     "output_type": "execute_result"
    }
   ],
   "source": [
    "xgb.fit(features_train, labels_train)"
   ]
  },
  {
   "cell_type": "code",
   "execution_count": 26,
   "id": "2ce306e4",
   "metadata": {},
   "outputs": [
    {
     "name": "stdout",
     "output_type": "stream",
     "text": [
      "Training Score: 1.0\n",
      "Testing Score: 0.9931818181818182\n"
     ]
    }
   ],
   "source": [
    "print(\"Training Score:\", xgb.score(features_train, labels_train))\n",
    "print(\"Testing Score:\", xgb.score(features_test, labels_test))"
   ]
  },
  {
   "cell_type": "code",
   "execution_count": 27,
   "id": "1fd0938a",
   "metadata": {},
   "outputs": [],
   "source": [
    "xgb_pred = xgb.predict(features_test)"
   ]
  },
  {
   "cell_type": "code",
   "execution_count": 28,
   "id": "8f7454af",
   "metadata": {},
   "outputs": [
    {
     "name": "stdout",
     "output_type": "stream",
     "text": [
      "              precision    recall  f1-score   support\n",
      "\n",
      "       apple       1.00      1.00      1.00        21\n",
      "      banana       1.00      1.00      1.00        13\n",
      "   blackgram       1.00      1.00      1.00        20\n",
      "    chickpea       1.00      1.00      1.00        25\n",
      "     coconut       1.00      1.00      1.00        19\n",
      "      coffee       1.00      1.00      1.00        22\n",
      "      cotton       1.00      1.00      1.00        12\n",
      "      grapes       1.00      1.00      1.00        25\n",
      "        jute       0.90      0.95      0.92        19\n",
      " kidneybeans       1.00      1.00      1.00        24\n",
      "      lentil       1.00      1.00      1.00        24\n",
      "       maize       1.00      1.00      1.00        19\n",
      "       mango       1.00      1.00      1.00        17\n",
      "   mothbeans       1.00      1.00      1.00        21\n",
      "    mungbean       1.00      1.00      1.00        19\n",
      "   muskmelon       1.00      1.00      1.00        27\n",
      "      orange       1.00      1.00      1.00        17\n",
      "      papaya       1.00      1.00      1.00        20\n",
      "  pigeonpeas       1.00      1.00      1.00        22\n",
      " pomegranate       1.00      1.00      1.00        26\n",
      "        rice       0.94      0.88      0.91        17\n",
      "  watermelon       1.00      1.00      1.00        11\n",
      "\n",
      "    accuracy                           0.99       440\n",
      "   macro avg       0.99      0.99      0.99       440\n",
      "weighted avg       0.99      0.99      0.99       440\n",
      "\n"
     ]
    }
   ],
   "source": [
    "from sklearn.metrics import classification_report\n",
    "cr = classification_report(labels_test, xgb_pred)\n",
    "print(cr)\n"
   ]
  },
  {
   "cell_type": "code",
   "execution_count": 33,
   "id": "7e185a33",
   "metadata": {},
   "outputs": [],
   "source": [
    "# Exporting our model into pickle file\n",
    "\n",
    "import pickle\n",
    "with open('Agriculture_Logistic_Model.pickle', 'wb') as f:\n",
    "    pickle.dump(model,f)\n",
    "\n",
    "import pickle\n",
    "with open('Agriculture_XGBoost_Model.pickle', 'wb') as f:\n",
    "    pickle.dump(xgb,f)\n",
    "     \n",
    "\n",
    "\n",
    "# (Exporting done)"
   ]
  },
  {
   "cell_type": "code",
   "execution_count": 34,
   "id": "acb2f44b",
   "metadata": {},
   "outputs": [
    {
     "data": {
      "text/html": [
       "<div>\n",
       "<style scoped>\n",
       "    .dataframe tbody tr th:only-of-type {\n",
       "        vertical-align: middle;\n",
       "    }\n",
       "\n",
       "    .dataframe tbody tr th {\n",
       "        vertical-align: top;\n",
       "    }\n",
       "\n",
       "    .dataframe thead th {\n",
       "        text-align: right;\n",
       "    }\n",
       "</style>\n",
       "<table border=\"1\" class=\"dataframe\">\n",
       "  <thead>\n",
       "    <tr style=\"text-align: right;\">\n",
       "      <th></th>\n",
       "      <th>N</th>\n",
       "      <th>P</th>\n",
       "      <th>K</th>\n",
       "      <th>temperature</th>\n",
       "      <th>humidity</th>\n",
       "      <th>ph</th>\n",
       "      <th>rainfall</th>\n",
       "      <th>label</th>\n",
       "    </tr>\n",
       "  </thead>\n",
       "  <tbody>\n",
       "    <tr>\n",
       "      <th>0</th>\n",
       "      <td>90</td>\n",
       "      <td>42</td>\n",
       "      <td>43</td>\n",
       "      <td>20.879744</td>\n",
       "      <td>82.002744</td>\n",
       "      <td>6.502985</td>\n",
       "      <td>202.935536</td>\n",
       "      <td>rice</td>\n",
       "    </tr>\n",
       "    <tr>\n",
       "      <th>1</th>\n",
       "      <td>85</td>\n",
       "      <td>58</td>\n",
       "      <td>41</td>\n",
       "      <td>21.770462</td>\n",
       "      <td>80.319644</td>\n",
       "      <td>7.038096</td>\n",
       "      <td>226.655537</td>\n",
       "      <td>rice</td>\n",
       "    </tr>\n",
       "    <tr>\n",
       "      <th>2</th>\n",
       "      <td>60</td>\n",
       "      <td>55</td>\n",
       "      <td>44</td>\n",
       "      <td>23.004459</td>\n",
       "      <td>82.320763</td>\n",
       "      <td>7.840207</td>\n",
       "      <td>263.964248</td>\n",
       "      <td>rice</td>\n",
       "    </tr>\n",
       "    <tr>\n",
       "      <th>3</th>\n",
       "      <td>74</td>\n",
       "      <td>35</td>\n",
       "      <td>40</td>\n",
       "      <td>26.491096</td>\n",
       "      <td>80.158363</td>\n",
       "      <td>6.980401</td>\n",
       "      <td>242.864034</td>\n",
       "      <td>rice</td>\n",
       "    </tr>\n",
       "    <tr>\n",
       "      <th>4</th>\n",
       "      <td>78</td>\n",
       "      <td>42</td>\n",
       "      <td>42</td>\n",
       "      <td>20.130175</td>\n",
       "      <td>81.604873</td>\n",
       "      <td>7.628473</td>\n",
       "      <td>262.717340</td>\n",
       "      <td>rice</td>\n",
       "    </tr>\n",
       "  </tbody>\n",
       "</table>\n",
       "</div>"
      ],
      "text/plain": [
       "    N   P   K  temperature   humidity        ph    rainfall label\n",
       "0  90  42  43    20.879744  82.002744  6.502985  202.935536  rice\n",
       "1  85  58  41    21.770462  80.319644  7.038096  226.655537  rice\n",
       "2  60  55  44    23.004459  82.320763  7.840207  263.964248  rice\n",
       "3  74  35  40    26.491096  80.158363  6.980401  242.864034  rice\n",
       "4  78  42  42    20.130175  81.604873  7.628473  262.717340  rice"
      ]
     },
     "execution_count": 34,
     "metadata": {},
     "output_type": "execute_result"
    }
   ],
   "source": [
    "# Lets do some real time prediction\n",
    "# By passing soil requirement and climatic condition in our model we will get to know the crop name which is best to grow in \n",
    "# those particular soil requirement and climatic condition.\n",
    "\n",
    "# lets check it for rice\n",
    "data.head()"
   ]
  },
  {
   "cell_type": "code",
   "execution_count": null,
   "id": "81a61cb7",
   "metadata": {},
   "outputs": [],
   "source": []
  },
  {
   "cell_type": "code",
   "execution_count": 42,
   "id": "aec28e2d",
   "metadata": {},
   "outputs": [
    {
     "name": "stdout",
     "output_type": "stream",
     "text": [
      "The suggested Crop for the given Soil Requirement and Climatic Condition is:  ['mango']\n"
     ]
    }
   ],
   "source": [
    "# Prediction using Logisitc Model\n",
    "\n",
    "# data_for_prediction = [35, 20, 27, 33, 40, 5, 99]\n",
    "# data_for_prediction = np.array(data_for_prediction)\n",
    "# data_for_prediction = data_for_prediction.reshape(1,7)\n",
    "# prediction = model.predict(data_for_prediction)\n",
    "# print('The suggested Crop for the given Soil Requirement and Climatic Condition is: ', prediction)\n",
    "\n"
   ]
  },
  {
   "cell_type": "code",
   "execution_count": 46,
   "id": "90c5267f",
   "metadata": {},
   "outputs": [
    {
     "name": "stdout",
     "output_type": "stream",
     "text": [
      "The suggested Crop for the given Soil Requirement and Climatic Condition is:  ['mango']\n"
     ]
    }
   ],
   "source": [
    "# Prediction using XGBoost\n",
    "\n",
    "data_for_prediction = [35, 20, 27, 33, 40, 5, 99]\n",
    "data_for_prediction = np.array(data_for_prediction)\n",
    "data_for_prediction = data_for_prediction.reshape(1,7)\n",
    "prediction = xgb.predict(data_for_prediction)\n",
    "print('The suggested Crop for the given Soil Requirement and Climatic Condition is: ', prediction)\n"
   ]
  },
  {
   "cell_type": "code",
   "execution_count": null,
   "id": "79e58bf5",
   "metadata": {},
   "outputs": [],
   "source": []
  },
  {
   "cell_type": "code",
   "execution_count": 39,
   "id": "1f288d75",
   "metadata": {},
   "outputs": [
    {
     "data": {
      "text/html": [
       "<div>\n",
       "<style scoped>\n",
       "    .dataframe tbody tr th:only-of-type {\n",
       "        vertical-align: middle;\n",
       "    }\n",
       "\n",
       "    .dataframe tbody tr th {\n",
       "        vertical-align: top;\n",
       "    }\n",
       "\n",
       "    .dataframe thead th {\n",
       "        text-align: right;\n",
       "    }\n",
       "</style>\n",
       "<table border=\"1\" class=\"dataframe\">\n",
       "  <thead>\n",
       "    <tr style=\"text-align: right;\">\n",
       "      <th></th>\n",
       "      <th>N</th>\n",
       "      <th>P</th>\n",
       "      <th>K</th>\n",
       "      <th>temperature</th>\n",
       "      <th>humidity</th>\n",
       "      <th>ph</th>\n",
       "      <th>rainfall</th>\n",
       "    </tr>\n",
       "  </thead>\n",
       "  <tbody>\n",
       "    <tr>\n",
       "      <th>count</th>\n",
       "      <td>100.000000</td>\n",
       "      <td>100.000000</td>\n",
       "      <td>100.000000</td>\n",
       "      <td>100.000000</td>\n",
       "      <td>100.000000</td>\n",
       "      <td>100.000000</td>\n",
       "      <td>100.000000</td>\n",
       "    </tr>\n",
       "    <tr>\n",
       "      <th>mean</th>\n",
       "      <td>20.070000</td>\n",
       "      <td>27.180000</td>\n",
       "      <td>29.920000</td>\n",
       "      <td>31.208770</td>\n",
       "      <td>50.156573</td>\n",
       "      <td>5.766373</td>\n",
       "      <td>94.704515</td>\n",
       "    </tr>\n",
       "    <tr>\n",
       "      <th>std</th>\n",
       "      <td>12.329037</td>\n",
       "      <td>7.663873</td>\n",
       "      <td>3.096691</td>\n",
       "      <td>2.653858</td>\n",
       "      <td>2.756285</td>\n",
       "      <td>0.703655</td>\n",
       "      <td>3.338577</td>\n",
       "    </tr>\n",
       "    <tr>\n",
       "      <th>min</th>\n",
       "      <td>0.000000</td>\n",
       "      <td>15.000000</td>\n",
       "      <td>25.000000</td>\n",
       "      <td>27.003155</td>\n",
       "      <td>45.022364</td>\n",
       "      <td>4.507524</td>\n",
       "      <td>89.291476</td>\n",
       "    </tr>\n",
       "    <tr>\n",
       "      <th>25%</th>\n",
       "      <td>9.000000</td>\n",
       "      <td>19.750000</td>\n",
       "      <td>27.000000</td>\n",
       "      <td>28.912489</td>\n",
       "      <td>47.930584</td>\n",
       "      <td>5.183736</td>\n",
       "      <td>91.612674</td>\n",
       "    </tr>\n",
       "    <tr>\n",
       "      <th>50%</th>\n",
       "      <td>21.000000</td>\n",
       "      <td>27.500000</td>\n",
       "      <td>30.000000</td>\n",
       "      <td>31.300223</td>\n",
       "      <td>50.281615</td>\n",
       "      <td>5.743385</td>\n",
       "      <td>94.905973</td>\n",
       "    </tr>\n",
       "    <tr>\n",
       "      <th>75%</th>\n",
       "      <td>30.250000</td>\n",
       "      <td>35.000000</td>\n",
       "      <td>32.000000</td>\n",
       "      <td>33.382600</td>\n",
       "      <td>52.482812</td>\n",
       "      <td>6.416573</td>\n",
       "      <td>97.475774</td>\n",
       "    </tr>\n",
       "    <tr>\n",
       "      <th>max</th>\n",
       "      <td>40.000000</td>\n",
       "      <td>40.000000</td>\n",
       "      <td>35.000000</td>\n",
       "      <td>35.990097</td>\n",
       "      <td>54.964053</td>\n",
       "      <td>6.967418</td>\n",
       "      <td>100.812466</td>\n",
       "    </tr>\n",
       "  </tbody>\n",
       "</table>\n",
       "</div>"
      ],
      "text/plain": [
       "                N           P           K  temperature    humidity  \\\n",
       "count  100.000000  100.000000  100.000000   100.000000  100.000000   \n",
       "mean    20.070000   27.180000   29.920000    31.208770   50.156573   \n",
       "std     12.329037    7.663873    3.096691     2.653858    2.756285   \n",
       "min      0.000000   15.000000   25.000000    27.003155   45.022364   \n",
       "25%      9.000000   19.750000   27.000000    28.912489   47.930584   \n",
       "50%     21.000000   27.500000   30.000000    31.300223   50.281615   \n",
       "75%     30.250000   35.000000   32.000000    33.382600   52.482812   \n",
       "max     40.000000   40.000000   35.000000    35.990097   54.964053   \n",
       "\n",
       "               ph    rainfall  \n",
       "count  100.000000  100.000000  \n",
       "mean     5.766373   94.704515  \n",
       "std      0.703655    3.338577  \n",
       "min      4.507524   89.291476  \n",
       "25%      5.183736   91.612674  \n",
       "50%      5.743385   94.905973  \n",
       "75%      6.416573   97.475774  \n",
       "max      6.967418  100.812466  "
      ]
     },
     "execution_count": 39,
     "metadata": {},
     "output_type": "execute_result"
    }
   ],
   "source": [
    "data[data['label']=='mango'].describe()"
   ]
  },
  {
   "cell_type": "code",
   "execution_count": 44,
   "id": "0e58dc26",
   "metadata": {},
   "outputs": [],
   "source": [
    "#data[data['label']=='mothbeans']\n",
    "#data[(data['label'] == 'rice')]"
   ]
  },
  {
   "cell_type": "code",
   "execution_count": null,
   "id": "553a389d",
   "metadata": {},
   "outputs": [],
   "source": []
  },
  {
   "cell_type": "code",
   "execution_count": null,
   "id": "3cd7aa1f",
   "metadata": {},
   "outputs": [],
   "source": []
  },
  {
   "cell_type": "code",
   "execution_count": 60,
   "id": "571e7f6c",
   "metadata": {},
   "outputs": [],
   "source": [
    "#sns.displot(data, x='rainfall', hue='label', element='step')"
   ]
  },
  {
   "cell_type": "code",
   "execution_count": 61,
   "id": "df91d72c",
   "metadata": {},
   "outputs": [],
   "source": [
    "# sns.displot(data, x='ph', kind='kde')"
   ]
  },
  {
   "cell_type": "code",
   "execution_count": 62,
   "id": "f5da57b4",
   "metadata": {},
   "outputs": [],
   "source": [
    "# sns.displot(data, x='rainfall', hue = 'label', kind='kde')"
   ]
  },
  {
   "cell_type": "code",
   "execution_count": 63,
   "id": "a26bd7c7",
   "metadata": {},
   "outputs": [],
   "source": [
    "#sns.displot(data, x=\"temperature\", hue=\"label\", kind=\"kde\", multiple=\"stack\")"
   ]
  },
  {
   "cell_type": "code",
   "execution_count": 64,
   "id": "cb62b16d",
   "metadata": {},
   "outputs": [],
   "source": [
    "# Bivariate analysis\n",
    "\n",
    "#sns.displot(data, x='ph', y='rainfall', hue = 'label')"
   ]
  },
  {
   "cell_type": "code",
   "execution_count": 65,
   "id": "4e8ca7fe",
   "metadata": {},
   "outputs": [],
   "source": [
    "# Plotting pairwise relationship in a data\n",
    "\n",
    "#sns.pairplot(data)"
   ]
  },
  {
   "cell_type": "code",
   "execution_count": 66,
   "id": "8c258277",
   "metadata": {},
   "outputs": [],
   "source": [
    "#sns.pairplot(data, hue='label')"
   ]
  },
  {
   "cell_type": "code",
   "execution_count": 67,
   "id": "6f8d109d",
   "metadata": {},
   "outputs": [],
   "source": [
    "# Plotting climatic condition vs soil requirements\n",
    "\n",
    "# sns.pairplot(\n",
    "#     data,\n",
    "#     x_vars = ['temperature', 'humidity', 'rainfall'],\n",
    "#     y_vars = ['N', 'P', 'K'],\n",
    "#             )"
   ]
  },
  {
   "cell_type": "code",
   "execution_count": null,
   "id": "1774f848",
   "metadata": {},
   "outputs": [],
   "source": []
  },
  {
   "cell_type": "code",
   "execution_count": null,
   "id": "4e26f12e",
   "metadata": {},
   "outputs": [],
   "source": []
  },
  {
   "cell_type": "code",
   "execution_count": null,
   "id": "48063dd7",
   "metadata": {},
   "outputs": [],
   "source": []
  },
  {
   "cell_type": "code",
   "execution_count": null,
   "id": "61dfbc02",
   "metadata": {},
   "outputs": [],
   "source": []
  },
  {
   "cell_type": "code",
   "execution_count": null,
   "id": "d6a5f74a",
   "metadata": {},
   "outputs": [],
   "source": []
  },
  {
   "cell_type": "code",
   "execution_count": null,
   "id": "3524fa29",
   "metadata": {},
   "outputs": [],
   "source": []
  },
  {
   "cell_type": "code",
   "execution_count": null,
   "id": "a9aa0dba",
   "metadata": {},
   "outputs": [],
   "source": []
  }
 ],
 "metadata": {
  "kernelspec": {
   "display_name": "Python 3",
   "language": "python",
   "name": "python3"
  },
  "language_info": {
   "codemirror_mode": {
    "name": "ipython",
    "version": 3
   },
   "file_extension": ".py",
   "mimetype": "text/x-python",
   "name": "python",
   "nbconvert_exporter": "python",
   "pygments_lexer": "ipython3",
   "version": "3.7.6"
  }
 },
 "nbformat": 4,
 "nbformat_minor": 5
}
